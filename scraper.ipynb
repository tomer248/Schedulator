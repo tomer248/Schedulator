{
 "cells": [
  {
   "cell_type": "code",
   "execution_count": 5,
   "metadata": {},
   "outputs": [],
   "source": [
    "from time import sleep\n",
    "from selenium import webdriver\n",
    "from selenium.webdriver.support.ui import Select"
   ]
  },
  {
   "cell_type": "code",
   "execution_count": 15,
   "metadata": {},
   "outputs": [
    {
     "data": {
      "text/plain": [
       "<bound method WebDriver.close of <selenium.webdriver.chrome.webdriver.WebDriver (session=\"d37cdd5a99bc9a22c0481b6ce00a927f\")>>"
      ]
     },
     "execution_count": 15,
     "metadata": {},
     "output_type": "execute_result"
    }
   ],
   "source": [
    "browser = webdriver.Chrome()\n",
    "browser.get(\"https://shnaton.huji.ac.il/\")\n",
    "# browser.find_element_by_xpath(\"//select[@name='element_name']/option[text()='option_text']\").click()\n",
    "\n",
    "\n",
    "\n",
    "select = Select(browser.find_element_by_id('faculty'))\n",
    "# Now we have many different alternatives to select an option.\n",
    "\n",
    "# select.select_by_index(4)\n",
    "# select.select_by_visible_text(\"jumbo fruit 4\")\n",
    "select.select_by_value('07') #Pass value as string\n",
    "\n",
    "\n",
    "sleep(5)\n",
    "browser.close"
   ]
  },
  {
   "cell_type": "code",
   "execution_count": 14,
   "metadata": {},
   "outputs": [],
   "source": []
  },
  {
   "cell_type": "code",
   "execution_count": null,
   "metadata": {},
   "outputs": [],
   "source": []
  }
 ],
 "metadata": {
  "kernelspec": {
   "display_name": "Python 3",
   "language": "python",
   "name": "python3"
  },
  "language_info": {
   "codemirror_mode": {
    "name": "ipython",
    "version": 3
   },
   "file_extension": ".py",
   "mimetype": "text/x-python",
   "name": "python",
   "nbconvert_exporter": "python",
   "pygments_lexer": "ipython3",
   "version": "3.7.6"
  }
 },
 "nbformat": 4,
 "nbformat_minor": 4
}
