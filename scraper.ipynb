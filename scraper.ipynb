{
 "cells": [
  {
   "cell_type": "code",
   "execution_count": 2,
   "metadata": {},
   "outputs": [],
   "source": [
    "from time import sleep\n",
    "from selenium import webdriver\n",
    "from selenium.webdriver.support.ui import Select\n",
    "\n",
    "#installation guide for selenium\n",
    "#https://medium.com/@shanyitan/how-to-install-selenium-and-run-it-successfully-via-jupyter-lab-c3f50d22a0d4"
   ]
  },
  {
   "cell_type": "code",
   "execution_count": 26,
   "metadata": {},
   "outputs": [
    {
     "data": {
      "text/plain": [
       "<bound method WebDriver.close of <selenium.webdriver.chrome.webdriver.WebDriver (session=\"0d88f0bb28b8ec809a05678ea0a8036b\")>>"
      ]
     },
     "execution_count": 26,
     "metadata": {},
     "output_type": "execute_result"
    }
   ],
   "source": [
    "browser = webdriver.Chrome()\n",
    "browser.get(\"https://shnaton.huji.ac.il/\")\n",
    "\n",
    "\n",
    "\n",
    "select = Select(browser.find_element_by_id('faculty'))\n",
    "select.select_by_value('07') #Pass value as string\n",
    "sleep(0.2)\n",
    "\n",
    "select = Select(browser.find_element_by_id('hugim'))\n",
    "select.select_by_value('0824')\n",
    "sleep(0.2)\n",
    "\n",
    "select = Select(browser.find_element_by_id('maslul'))\n",
    "select.select_by_value('7411')\n",
    "sleep(0.2)\n",
    "\n",
    "select = Select(browser.find_element_by_id('toar'))\n",
    "select.select_by_value('1')\n",
    "sleep(0.2)\n",
    "\n",
    "select = Select(browser.find_element_by_id('shana'))\n",
    "select.select_by_value('0')\n",
    "sleep(0.2)\n",
    "\n",
    "browser.find_element_by_css_selector(\"input[type='radio'][id='full']\").click()\n",
    "sleep(0.2)\n",
    "\n",
    "browser.find_element_by_css_selector(\"input[type='button'][value=' חפש ']\").click()\n",
    "\n",
    "\n",
    "browser.close"
   ]
  },
  {
   "cell_type": "code",
   "execution_count": 14,
   "metadata": {},
   "outputs": [],
   "source": []
  },
  {
   "cell_type": "code",
   "execution_count": null,
   "metadata": {},
   "outputs": [],
   "source": []
  }
 ],
 "metadata": {
  "kernelspec": {
   "display_name": "Python 3",
   "language": "python",
   "name": "python3"
  },
  "language_info": {
   "codemirror_mode": {
    "name": "ipython",
    "version": 3
   },
   "file_extension": ".py",
   "mimetype": "text/x-python",
   "name": "python",
   "nbconvert_exporter": "python",
   "pygments_lexer": "ipython3",
   "version": "3.7.6"
  }
 },
 "nbformat": 4,
 "nbformat_minor": 4
}
